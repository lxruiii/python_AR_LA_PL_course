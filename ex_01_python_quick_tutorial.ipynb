{
 "cells": [
  {
   "cell_type": "code",
   "execution_count": 1,
   "id": "91244675",
   "metadata": {},
   "outputs": [
    {
     "name": "stdout",
     "output_type": "stream",
     "text": [
      "Hello world\n"
     ]
    }
   ],
   "source": [
    "print(\"Hello world\")"
   ]
  },
  {
   "cell_type": "code",
   "execution_count": 3,
   "id": "6f7bd54d",
   "metadata": {},
   "outputs": [
    {
     "name": "stdout",
     "output_type": "stream",
     "text": [
      "1\n",
      "ABC\n"
     ]
    }
   ],
   "source": [
    "a=1 #a存储整数类型\n",
    "print(a)\n",
    "a='ABC'#a存储字符串类型\n",
    "print(a)"
   ]
  },
  {
   "cell_type": "code",
   "execution_count": 7,
   "id": "8093878d",
   "metadata": {},
   "outputs": [
    {
     "name": "stdout",
     "output_type": "stream",
     "text": [
      "Hello World,Hello China,Hello Python.\n",
      "Hello Python,Hello China,Hello World.\n"
     ]
    }
   ],
   "source": [
    "template='Hello {0},Hello {1},Hello {2}.'#指定顺序\n",
    "result=template.format('World','China','Python')\n",
    "print(result)\n",
    "template='Hello {2},Hello {1},Hello {0}.'#调整顺序\n",
    "result=template.format('World','China','Python')\n",
    "print(result)"
   ]
  },
  {
   "cell_type": "code",
   "execution_count": 5,
   "id": "67ae2cb8",
   "metadata": {},
   "outputs": [
    {
     "name": "stdout",
     "output_type": "stream",
     "text": [
      "Hello World, Hello China, Hello python.\n"
     ]
    }
   ],
   "source": [
    "template = 'Hello {w}, Hello {c}, Hello {p}.'# 指定{}的名字\n",
    "world = 'World'\n",
    "china = 'China'\n",
    "python = 'python'\n",
    "result = template.format(w = world, c = china, p=python)# 指定名字对应的模板数据内容\n",
    "print(result)"
   ]
  },
  {
   "cell_type": "code",
   "execution_count": 11,
   "id": "b6a1bb74",
   "metadata": {},
   "outputs": [
    {
     "name": "stdout",
     "output_type": "stream",
     "text": [
      "['Alice', 66, 'Bob', 70, 'David', 100]\n",
      "Alice\n",
      "66\n",
      "Bob\n",
      "70\n",
      "David\n",
      "100\n",
      "['ABCDEFGHIJK']\n",
      "[]\n",
      "['Alice', 'Bob', 'David', 'Ellena', 'Candy']\n",
      "['Alice', 'Bob', 'Candy', 'David', 'Ellena']\n",
      "Ellena\n",
      "['Alice', 'Bob', 'Candy', 'David']\n",
      "[[100, 89, 92], [70, 65, 81], [88, 72, 77]]\n"
     ]
    }
   ],
   "source": [
    "L = ['Alice', 66, 'Bob', 70, 'David', 100]\n",
    "print(L)\n",
    "L = ['Alice', 66, 'Bob', 70, 'David', 100]\n",
    "for item in L:\n",
    "    print(item)\n",
    "L= ['ABCDEFGHIJK']\n",
    "abcd = L[0:4] #取字符串L中的第一个字符到第五个字符，不包括第五个字符\n",
    "print(abcd)\n",
    "cdef = L[2:6]#取字符串L中的第三个字符到第七个字符，不包括第七个字符\n",
    "print(cdef)\n",
    "names = ['Alice', 'Bob', 'David', 'Ellena']\n",
    "names.append('Candy')#append()方法总是将元素添加到list的尾部\n",
    "print(names) \n",
    "names = ['Alice', 'Bob', 'David', 'Ellena']\n",
    "names.insert(2, 'Candy')#insert()方法需要两个参数，需要插入的位置，和需要插入的元素\n",
    "print(names)\n",
    "L = ['Alice', 'Bob', 'Candy', 'David', 'Ellena']\n",
    "name = L.pop()\n",
    "print(name) #pop()方法默认删除列表的最后一个元素\n",
    "print(L)\n",
    "alice_scores = [100, 89, 92]\n",
    "bob_scores = [70, 65, 81]\n",
    "candy_scores = [88, 72, 77]\n",
    "all_scores = [alice_scores, bob_scores, candy_scores]\n",
    "print(all_scores)#得到二维list"
   ]
  },
  {
   "cell_type": "code",
   "execution_count": 16,
   "id": "5e5c7c64",
   "metadata": {},
   "outputs": [
    {
     "name": "stdout",
     "output_type": "stream",
     "text": [
      "Alice\n",
      "Ellena\n",
      "('Bob', 'Candy')\n",
      "(4, 5, 6)\n"
     ]
    }
   ],
   "source": [
    "T = ('Alice', 'Bob', 'Candy', 'David', 'Ellena')\n",
    "# 通过下标的方式访问元素\n",
    "print(T[0])\n",
    "print(T[4])\n",
    "# 切片\n",
    "print(T[1:3])\n",
    "#将列表转换成元组\n",
    "L=[4,5,6]\n",
    "T=tuple(L)\n",
    "print(T)"
   ]
  },
  {
   "cell_type": "code",
   "execution_count": 18,
   "id": "39c0816c",
   "metadata": {},
   "outputs": [
    {
     "name": "stdout",
     "output_type": "stream",
     "text": [
      "60\n",
      "45\n",
      "{'Alice': 45, 'Bob': 75, 'Candy': 75, 'David': 86, 'Ellena': 49, 'Gaven': 86}\n",
      "{'Alice': 45, 'Bob': 75, 'Candy': 75, 'David': 86, 'Ellena': 49, 'Gaven': 86, 'Mimi': [72, 73], 'Dodo': [88, 90]}\n",
      "{'Alice': 45, 'Bob': 75, 'Candy': 75, 'David': 86, 'Ellena': 49, 'Gaven': 86, 'Mimi': [72, 73, 75], 'Dodo': [88, 90, 90]}\n",
      "45\n",
      "{'Bob': 75, 'Candy': 75, 'David': 86, 'Ellena': 49, 'Gaven': 86, 'Mimi': [72, 73, 75], 'Dodo': [88, 90, 90]}\n",
      "Candy 75\n",
      "David 86\n",
      "Gaven 86\n",
      "Candy 75\n",
      "David 86\n",
      "Gaven 86\n",
      "Alice\n",
      "Bob\n",
      "Candy\n",
      "[50, 61, 66]\n",
      "[80, 61, 66]\n",
      "[88, 75, 90]\n",
      "{}\n"
     ]
    }
   ],
   "source": [
    "d = {\n",
    "    'Alice': 45,\n",
    "    'Bob': 60,\n",
    "    'Candy': 75,\n",
    "    'David': 86,\n",
    "    'Ellena': 49,\n",
    "    'Gaven': 86\n",
    "}\n",
    "#读取dict元素\n",
    "print(d['Bob'])\n",
    "print(d['Alice'])\n",
    "#更新dict元素\n",
    "d['Bob']=75\n",
    "print(d)\n",
    "#添加dict元素\n",
    "d['Mimi'] = [72, 73]\n",
    "d['Dodo'] = [88, 90]\n",
    "print(d)\n",
    "d['Mimi'].append(75)\n",
    "d['Dodo'].append(90)\n",
    "print(d)\n",
    "#删除dict元素\n",
    "alice_score= d.pop('Alice')\n",
    "print(alice_score)\n",
    "print(d)\n",
    "#遍历dict\n",
    "d = {\n",
    "    'Alice': 45,\n",
    "    'Bob': 60,\n",
    "    'Candy': 75,\n",
    "    'David': 86,\n",
    "    'Ellena': 49,\n",
    "    'Gaven': 86\n",
    "}\n",
    "for key in d: #遍历d的所有key\n",
    "    value = d[key]\n",
    "    if value > 60:\n",
    "        print(key, value)\n",
    "for key, value in d.items():#返回dict中所有的元素\n",
    "    if value > 60:\n",
    "        print(key, value)\n",
    "#获取dict的所有key\n",
    "d = {'Alice': [50, 61, 66], 'Bob': [80, 61, 66], 'Candy': [88, 75, 90]}\n",
    "for key in d.keys():\n",
    "    print(key)\n",
    "#获取dict的所有value\n",
    "for key in d.values():\n",
    "    print(key)\n",
    "#清除所有元素\n",
    "d.clear()\n",
    "print(d)"
   ]
  },
  {
   "cell_type": "code",
   "execution_count": null,
   "id": "02182eff",
   "metadata": {
    "tags": []
   },
   "outputs": [],
   "source": []
  },
  {
   "cell_type": "code",
   "execution_count": 26,
   "id": "11697fdd",
   "metadata": {},
   "outputs": [
    {
     "name": "stdout",
     "output_type": "stream",
     "text": [
      "A\n",
      "B\n",
      "C\n",
      "D\n",
      "Alice\n",
      "Bob\n",
      "Candy\n",
      "David\n",
      "Ellena\n",
      "Gaven\n",
      "5050\n",
      "5050\n"
     ]
    }
   ],
   "source": [
    "#for循环\n",
    "s = 'ABCD'\n",
    "for h in s:\n",
    "    print(h) #注意缩进\n",
    "d = {\n",
    "    'Alice': 45,\n",
    "    'Bob': 60,\n",
    "    'Candy': 75,\n",
    "    'David': 86,\n",
    "    'Ellena': 49,\n",
    "    'Gaven': 86\n",
    "}\n",
    "for k in d:\n",
    "    print(k)\n",
    "#while循环\n",
    "num = 1\n",
    "sum = 0\n",
    "while num <= 100:\n",
    "    sum = sum + num # 注意缩进\n",
    "    num = num + 1 # 注意缩进\n",
    "print(sum)\n",
    "#while跳出循环\n",
    "num = 1\n",
    "sum = 0\n",
    "while True:\n",
    "    if num > 100:\n",
    "        break\n",
    "    sum = sum + num\n",
    "    num = num + 1\n",
    "print(sum)"
   ]
  },
  {
   "cell_type": "code",
   "execution_count": 27,
   "id": "05dc4231",
   "metadata": {},
   "outputs": [
    {
     "name": "stdout",
     "output_type": "stream",
     "text": [
      "抱歉，考试不及格\n"
     ]
    }
   ],
   "source": [
    "#条件语句\n",
    "score = 59\n",
    "if score < 60:\n",
    "    print('抱歉，考试不及格')\n",
    "else:\n",
    "    if score >= 90:\n",
    "        print('恭喜你，拿到卓越的成绩')\n",
    "    else:\n",
    "        if score >= 80:\n",
    "            print('恭喜你，拿到优秀的成绩')\n",
    "        else:\n",
    "            print('恭喜你，考试及格')"
   ]
  },
  {
   "cell_type": "code",
   "execution_count": 1,
   "id": "c428dd59",
   "metadata": {},
   "outputs": [
    {
     "name": "stdout",
     "output_type": "stream",
     "text": [
      "5040\n",
      "fa=[1, 1, 2, 3, 5, 8, 13, 21, 34]\n",
      "fb=[55, 89, 144, 233, 377]\n",
      "f_convert_a('3.1415')->3.1415\n",
      "f_convert_a('string')->string\n",
      "f_convert_a(3,6,7)->(3, 6, 7)\n"
     ]
    }
   ],
   "source": [
    "#递归函数\n",
    "def factorial(n):\n",
    "    if n==1:\n",
    "        return 1\n",
    "    else:\n",
    "        return n*factorial(n-1)\n",
    "print(factorial(7))\n",
    "def power(x, n):\n",
    "    s = 1\n",
    "    while n > 0:\n",
    "        n = n - 1\n",
    "        s = s * x\n",
    "    return s\n",
    "#迭代\n",
    "class Fibs():\n",
    "    def __init__(self):\n",
    "        self.a=0\n",
    "        self.b=1\n",
    "    def next(self):  #实现迭代器的next方法\n",
    "        self.a,self.b=self.b,self.a+self.b\n",
    "        return self.a\n",
    "    def __iter__(self): #实现迭代方法\n",
    "        return self\n",
    "f=Fibs()\n",
    "fa=[]\n",
    "fb=[]\n",
    "for i in range(9):\n",
    "    fa.append(f.next())\n",
    "print(\"fa={}\".format(fa))\n",
    "for i in range(5):\n",
    "    fb.append(f.next())\n",
    "print(\"fb={}\".format(fb))\n",
    "#生成器\n",
    "def flatten(lst): #定义生成器（包含yield语句的函数）\n",
    "    try: #使用语句try\\except捕捉异常        \n",
    "        for n_lst in lst:  #循环列表            \n",
    "            for m in flatten(n_lst): #使用递归的方法循环子列表                \n",
    "                yield m  #使用yield语句，每次产生多个值，当返回一个值时函数就会被冻结，当再次激活时，从停止的那点开始执行\n",
    "    except TypeError:  #当函数被告知展开一个元素时，引发TypeError异常，生成器返回一个值\n",
    "        yield lst #生成器返回引发异常的一个值\n",
    "#try/except捕捉异常\n",
    "def f_convert_a(x):\n",
    "    try:\n",
    "        return float(x)\n",
    "    except:\n",
    "        return x\n",
    "print(\"f_convert_a('3.1415')->{}\".format(f_convert_a('3.1415')))    \n",
    "print(\"f_convert_a('string')->{}\".format(f_convert_a('string')))  \n",
    "print(\"f_convert_a(3,6,7)->{}\".format(f_convert_a((3,6,7))))  "
   ]
  }
 ],
 "metadata": {
  "kernelspec": {
   "display_name": "Python 3",
   "language": "python",
   "name": "python3"
  },
  "language_info": {
   "codemirror_mode": {
    "name": "ipython",
    "version": 3
   },
   "file_extension": ".py",
   "mimetype": "text/x-python",
   "name": "python",
   "nbconvert_exporter": "python",
   "pygments_lexer": "ipython3",
   "version": "3.9.2+"
  }
 },
 "nbformat": 4,
 "nbformat_minor": 5
}
